{
 "cells": [
  {
   "cell_type": "code",
   "execution_count": 2,
   "id": "e4f2ec6c-aaec-4c1d-9e3c-ac14083cc7d6",
   "metadata": {},
   "outputs": [],
   "source": [
    "from cs670 import get_steam_df\n",
    "import requests"
   ]
  },
  {
   "cell_type": "code",
   "execution_count": 3,
   "id": "1f6b0bb3-9742-40c7-8958-b0b15d5abe66",
   "metadata": {},
   "outputs": [
    {
     "name": "stdout",
     "output_type": "stream",
     "text": [
      "Data successfully saved to default_path.csv\n",
      "Successfully loaded CSV from default_path.csv\n"
     ]
    }
   ],
   "source": [
    "df = get_steam_df()"
   ]
  },
  {
   "cell_type": "code",
   "execution_count": 4,
   "id": "b35b29f3-cfaf-4a8d-b3f7-e200581f3f94",
   "metadata": {},
   "outputs": [
    {
     "data": {
      "text/html": [
       "<div>\n",
       "<style scoped>\n",
       "    .dataframe tbody tr th:only-of-type {\n",
       "        vertical-align: middle;\n",
       "    }\n",
       "\n",
       "    .dataframe tbody tr th {\n",
       "        vertical-align: top;\n",
       "    }\n",
       "\n",
       "    .dataframe thead th {\n",
       "        text-align: right;\n",
       "    }\n",
       "</style>\n",
       "<table border=\"1\" class=\"dataframe\">\n",
       "  <thead>\n",
       "    <tr style=\"text-align: right;\">\n",
       "      <th></th>\n",
       "      <th>appid</th>\n",
       "      <th>name</th>\n",
       "    </tr>\n",
       "  </thead>\n",
       "  <tbody>\n",
       "    <tr>\n",
       "      <th>0</th>\n",
       "      <td>2006441</td>\n",
       "      <td>NaN</td>\n",
       "    </tr>\n",
       "    <tr>\n",
       "      <th>1</th>\n",
       "      <td>2005791</td>\n",
       "      <td>NaN</td>\n",
       "    </tr>\n",
       "    <tr>\n",
       "      <th>2</th>\n",
       "      <td>216938</td>\n",
       "      <td>Pieterw test app76 ( 216938 )</td>\n",
       "    </tr>\n",
       "    <tr>\n",
       "      <th>3</th>\n",
       "      <td>660010</td>\n",
       "      <td>test2</td>\n",
       "    </tr>\n",
       "    <tr>\n",
       "      <th>4</th>\n",
       "      <td>660130</td>\n",
       "      <td>test3</td>\n",
       "    </tr>\n",
       "    <tr>\n",
       "      <th>...</th>\n",
       "      <td>...</td>\n",
       "      <td>...</td>\n",
       "    </tr>\n",
       "    <tr>\n",
       "      <th>237286</th>\n",
       "      <td>2369850</td>\n",
       "      <td>Dolven</td>\n",
       "    </tr>\n",
       "    <tr>\n",
       "      <th>237287</th>\n",
       "      <td>2772820</td>\n",
       "      <td>ButtKnight</td>\n",
       "    </tr>\n",
       "    <tr>\n",
       "      <th>237288</th>\n",
       "      <td>1313290</td>\n",
       "      <td>Let Them Trade</td>\n",
       "    </tr>\n",
       "    <tr>\n",
       "      <th>237289</th>\n",
       "      <td>2879840</td>\n",
       "      <td>Escape Simulator 2</td>\n",
       "    </tr>\n",
       "    <tr>\n",
       "      <th>237290</th>\n",
       "      <td>2712670</td>\n",
       "      <td>Axe Ghost</td>\n",
       "    </tr>\n",
       "  </tbody>\n",
       "</table>\n",
       "<p>237291 rows × 2 columns</p>\n",
       "</div>"
      ],
      "text/plain": [
       "          appid                           name\n",
       "0       2006441                            NaN\n",
       "1       2005791                            NaN\n",
       "2        216938  Pieterw test app76 ( 216938 )\n",
       "3        660010                          test2\n",
       "4        660130                          test3\n",
       "...         ...                            ...\n",
       "237286  2369850                         Dolven\n",
       "237287  2772820                     ButtKnight\n",
       "237288  1313290                 Let Them Trade\n",
       "237289  2879840             Escape Simulator 2\n",
       "237290  2712670                      Axe Ghost\n",
       "\n",
       "[237291 rows x 2 columns]"
      ]
     },
     "execution_count": 4,
     "metadata": {},
     "output_type": "execute_result"
    }
   ],
   "source": [
    "df"
   ]
  },
  {
   "cell_type": "code",
   "execution_count": 5,
   "id": "a9951a99-2130-4eec-9abc-906329dd17fa",
   "metadata": {},
   "outputs": [],
   "source": [
    "def get_store_details_url(app_id):\n",
    "    return f\"https://store.steampowered.com/api/appdetails?appids={app_id}\"\n",
    "# Get detailed information from the store API\n",
    "details_url = get_store_details_url(2772820)"
   ]
  },
  {
   "cell_type": "code",
   "execution_count": 6,
   "id": "90ab3826-9716-47fe-b6f3-80a68a7f4719",
   "metadata": {},
   "outputs": [],
   "source": [
    "details_response = requests.get(details_url)"
   ]
  },
  {
   "cell_type": "code",
   "execution_count": 7,
   "id": "12246493-c134-4d2e-a064-1bd5b07ec8fc",
   "metadata": {},
   "outputs": [
    {
     "name": "stdout",
     "output_type": "stream",
     "text": [
      "{'2772820': {'success': True, 'data': {'type': 'game', 'name': 'ButtKnight', 'steam_appid': 2772820, 'required_age': 0, 'is_free': False, 'controller_support': 'full', 'detailed_description': '<img class=\"bb_img\" src=\"https://shared.akamai.steamstatic.com/store_item_assets/steam/apps/2772820/extras/main615.png?t=1741621750\" /><br><br><img class=\"bb_img\" src=\"https://shared.akamai.steamstatic.com/store_item_assets/steam/apps/2772820/extras/Dongtan.png?t=1741621750\" /><h2 class=\"bb_tag\">The Story</h2><br><strong>Step in the shoes of the greatest Knight to ever grace your presence... The ButtKnight!</strong><br><br>The Kingdom and its land falls into ruin as Demons and Monsters begin the attack without warning. With the land now in shambles and maidenless... The ButtKnight must emerge from his humble retirement to set things straight and bring peace again!<br><br><img class=\"bb_img\" src=\"https://shared.akamai.steamstatic.com/store_item_assets/steam/apps/2772820/extras/header_1.gif?t=1741621750\" /><h2 class=\"bb_tag\">Gameplay</h2><br>Use your weapons wisely to slay swarms of evil, and defeat the bosses to free the kidnapped beauties from the evil\\'s grasp. <br><br>With various weapons, powerups and items that you earn, you will show the monsters what you\\'re made of, and return to the kingdom with maidens in your arms.<br><br><img class=\"bb_img\" src=\"https://shared.akamai.steamstatic.com/store_item_assets/steam/apps/2772820/extras/header_2.png?t=1741621750\" /><br><br><img class=\"bb_img\" src=\"https://shared.akamai.steamstatic.com/store_item_assets/steam/apps/2772820/extras/h_2.png?t=1741621750\" /><h2 class=\"bb_tag\">Score high to get laid™</h2><br>The faster you slay the monsters, the lewder the maidens will become. Wizard, Knight, Maid, Nun, Succubus, Princesses... Just name it!<br><br><strong>Score high... And be high!</strong><br><br><img class=\"bb_img\" src=\"https://shared.akamai.steamstatic.com/store_item_assets/steam/apps/2772820/extras/header_3.png?t=1741621750\" /><br><br><img class=\"bb_img\" src=\"https://shared.akamai.steamstatic.com/store_item_assets/steam/apps/2772820/extras/gif_2.gif?t=1741621750\" /><br><br><img class=\"bb_img\" src=\"https://shared.akamai.steamstatic.com/store_item_assets/steam/apps/2772820/extras/gif_3.gif?t=1741621750\" /><br><br><img class=\"bb_img\" src=\"https://shared.akamai.steamstatic.com/store_item_assets/steam/apps/2772820/extras/gif_1.gif?t=1741621750\" /><br><br><img class=\"bb_img\" src=\"https://shared.akamai.steamstatic.com/store_item_assets/steam/apps/2772820/extras/gif_4.gif?t=1741621750\" />', 'about_the_game': '<img class=\"bb_img\" src=\"https://shared.akamai.steamstatic.com/store_item_assets/steam/apps/2772820/extras/main615.png?t=1741621750\" /><br><br><img class=\"bb_img\" src=\"https://shared.akamai.steamstatic.com/store_item_assets/steam/apps/2772820/extras/Dongtan.png?t=1741621750\" /><h2 class=\"bb_tag\">The Story</h2><br><strong>Step in the shoes of the greatest Knight to ever grace your presence... The ButtKnight!</strong><br><br>The Kingdom and its land falls into ruin as Demons and Monsters begin the attack without warning. With the land now in shambles and maidenless... The ButtKnight must emerge from his humble retirement to set things straight and bring peace again!<br><br><img class=\"bb_img\" src=\"https://shared.akamai.steamstatic.com/store_item_assets/steam/apps/2772820/extras/header_1.gif?t=1741621750\" /><h2 class=\"bb_tag\">Gameplay</h2><br>Use your weapons wisely to slay swarms of evil, and defeat the bosses to free the kidnapped beauties from the evil\\'s grasp. <br><br>With various weapons, powerups and items that you earn, you will show the monsters what you\\'re made of, and return to the kingdom with maidens in your arms.<br><br><img class=\"bb_img\" src=\"https://shared.akamai.steamstatic.com/store_item_assets/steam/apps/2772820/extras/header_2.png?t=1741621750\" /><br><br><img class=\"bb_img\" src=\"https://shared.akamai.steamstatic.com/store_item_assets/steam/apps/2772820/extras/h_2.png?t=1741621750\" /><h2 class=\"bb_tag\">Score high to get laid™</h2><br>The faster you slay the monsters, the lewder the maidens will become. Wizard, Knight, Maid, Nun, Succubus, Princesses... Just name it!<br><br><strong>Score high... And be high!</strong><br><br><img class=\"bb_img\" src=\"https://shared.akamai.steamstatic.com/store_item_assets/steam/apps/2772820/extras/header_3.png?t=1741621750\" /><br><br><img class=\"bb_img\" src=\"https://shared.akamai.steamstatic.com/store_item_assets/steam/apps/2772820/extras/gif_2.gif?t=1741621750\" /><br><br><img class=\"bb_img\" src=\"https://shared.akamai.steamstatic.com/store_item_assets/steam/apps/2772820/extras/gif_3.gif?t=1741621750\" /><br><br><img class=\"bb_img\" src=\"https://shared.akamai.steamstatic.com/store_item_assets/steam/apps/2772820/extras/gif_1.gif?t=1741621750\" /><br><br><img class=\"bb_img\" src=\"https://shared.akamai.steamstatic.com/store_item_assets/steam/apps/2772820/extras/gif_4.gif?t=1741621750\" />', 'short_description': 'Save Maidens and slay monsters in this boobastic retro shoot-em-up! No man can stop you. No demon can sway you. And no woman is outside your reach! Be... The ButtKnight!', 'supported_languages': 'English, Japanese, Portuguese - Brazil, Russian, Simplified Chinese, Traditional Chinese', 'header_image': 'https://shared.akamai.steamstatic.com/store_item_assets/steam/apps/2772820/header.jpg?t=1741621750', 'capsule_image': 'https://shared.akamai.steamstatic.com/store_item_assets/steam/apps/2772820/d2ae4df02c7643f54ee3c1f24448c1e4aa7da6d2/capsule_231x87.jpg?t=1741621750', 'capsule_imagev5': 'https://shared.akamai.steamstatic.com/store_item_assets/steam/apps/2772820/d2ae4df02c7643f54ee3c1f24448c1e4aa7da6d2/capsule_184x69.jpg?t=1741621750', 'website': None, 'pc_requirements': {'minimum': '<strong>Minimum:</strong><br><ul class=\"bb_ul\"><li>Requires a 64-bit processor and operating system<br></li><li><strong>OS *:</strong> Microsoft Windows 7 / 8 / 10<br></li><li><strong>Processor:</strong> Dual Core processor<br></li><li><strong>Memory:</strong> 1 GB RAM<br></li><li><strong>Graphics:</strong> Integrated<br></li><li><strong>DirectX:</strong> Version 9.0<br></li><li><strong>Storage:</strong> 1 GB available space<br></li><li><strong>Sound Card:</strong> Onboard</li></ul>', 'recommended': '<strong>Recommended:</strong><br><ul class=\"bb_ul\"><li>Requires a 64-bit processor and operating system</li></ul>'}, 'mac_requirements': {'minimum': '<strong>Minimum:</strong><br><ul class=\"bb_ul\"><li><strong>OS:</strong> macOS Big Sur<br></li><li><strong>Processor:</strong> Dual Core processor<br></li><li><strong>Graphics:</strong> Integrated<br></li><li><strong>Storage:</strong> 1 GB available space<br></li><li><strong>Sound Card:</strong> Onboard</li></ul>', 'recommended': '<strong>Recommended:</strong><br><ul class=\"bb_ul\"></ul>'}, 'linux_requirements': {'minimum': '<strong>Minimum:</strong><br><ul class=\"bb_ul\"></ul>', 'recommended': '<strong>Recommended:</strong><br><ul class=\"bb_ul\"></ul>'}, 'developers': ['Goblin Stew', 'Critical Bliss'], 'publishers': ['Critical Bliss'], 'demos': [{'appid': 3175540, 'description': ''}], 'package_groups': [], 'platforms': {'windows': True, 'mac': True, 'linux': False}, 'categories': [{'id': 2, 'description': 'Single-player'}, {'id': 22, 'description': 'Steam Achievements'}, {'id': 28, 'description': 'Full controller support'}, {'id': 29, 'description': 'Steam Trading Cards'}, {'id': 23, 'description': 'Steam Cloud'}, {'id': 62, 'description': 'Family Sharing'}], 'genres': [{'id': '1', 'description': 'Action'}, {'id': '25', 'description': 'Adventure'}], 'screenshots': [{'id': 0, 'path_thumbnail': 'https://shared.akamai.steamstatic.com/store_item_assets/steam/apps/2772820/ss_a10fc7da29ab56ab97291364cc309de1861c93d6.600x338.jpg?t=1741621750', 'path_full': 'https://shared.akamai.steamstatic.com/store_item_assets/steam/apps/2772820/ss_a10fc7da29ab56ab97291364cc309de1861c93d6.1920x1080.jpg?t=1741621750'}, {'id': 1, 'path_thumbnail': 'https://shared.akamai.steamstatic.com/store_item_assets/steam/apps/2772820/3bebe47f929b0788eca39b6e231e1c50de5fdfe0/ss_3bebe47f929b0788eca39b6e231e1c50de5fdfe0.600x338.jpg?t=1741621750', 'path_full': 'https://shared.akamai.steamstatic.com/store_item_assets/steam/apps/2772820/3bebe47f929b0788eca39b6e231e1c50de5fdfe0/ss_3bebe47f929b0788eca39b6e231e1c50de5fdfe0.1920x1080.jpg?t=1741621750'}, {'id': 2, 'path_thumbnail': 'https://shared.akamai.steamstatic.com/store_item_assets/steam/apps/2772820/ss_9b99feb28d34295056e77c21e004972293dd9d52.600x338.jpg?t=1741621750', 'path_full': 'https://shared.akamai.steamstatic.com/store_item_assets/steam/apps/2772820/ss_9b99feb28d34295056e77c21e004972293dd9d52.1920x1080.jpg?t=1741621750'}, {'id': 3, 'path_thumbnail': 'https://shared.akamai.steamstatic.com/store_item_assets/steam/apps/2772820/ss_e3c6338974214b18982502326e0d75fdd96ef3ad.600x338.jpg?t=1741621750', 'path_full': 'https://shared.akamai.steamstatic.com/store_item_assets/steam/apps/2772820/ss_e3c6338974214b18982502326e0d75fdd96ef3ad.1920x1080.jpg?t=1741621750'}, {'id': 4, 'path_thumbnail': 'https://shared.akamai.steamstatic.com/store_item_assets/steam/apps/2772820/ss_67ba81754befe05ba83ae054eaa27160a68b8fd5.600x338.jpg?t=1741621750', 'path_full': 'https://shared.akamai.steamstatic.com/store_item_assets/steam/apps/2772820/ss_67ba81754befe05ba83ae054eaa27160a68b8fd5.1920x1080.jpg?t=1741621750'}, {'id': 5, 'path_thumbnail': 'https://shared.akamai.steamstatic.com/store_item_assets/steam/apps/2772820/ss_44fb8854e6ca7903a49d196c4851dac27176c5d7.600x338.jpg?t=1741621750', 'path_full': 'https://shared.akamai.steamstatic.com/store_item_assets/steam/apps/2772820/ss_44fb8854e6ca7903a49d196c4851dac27176c5d7.1920x1080.jpg?t=1741621750'}, {'id': 6, 'path_thumbnail': 'https://shared.akamai.steamstatic.com/store_item_assets/steam/apps/2772820/ss_ad31e46673b1577390cfebdb0f2cb1ab6e7eab26.600x338.jpg?t=1741621750', 'path_full': 'https://shared.akamai.steamstatic.com/store_item_assets/steam/apps/2772820/ss_ad31e46673b1577390cfebdb0f2cb1ab6e7eab26.1920x1080.jpg?t=1741621750'}, {'id': 7, 'path_thumbnail': 'https://shared.akamai.steamstatic.com/store_item_assets/steam/apps/2772820/ss_4ccbc706729062b626dc9515018303075ef87676.600x338.jpg?t=1741621750', 'path_full': 'https://shared.akamai.steamstatic.com/store_item_assets/steam/apps/2772820/ss_4ccbc706729062b626dc9515018303075ef87676.1920x1080.jpg?t=1741621750'}, {'id': 8, 'path_thumbnail': 'https://shared.akamai.steamstatic.com/store_item_assets/steam/apps/2772820/ss_c550c04d139a79a9055246d2db6156e62dd5ed2e.600x338.jpg?t=1741621750', 'path_full': 'https://shared.akamai.steamstatic.com/store_item_assets/steam/apps/2772820/ss_c550c04d139a79a9055246d2db6156e62dd5ed2e.1920x1080.jpg?t=1741621750'}], 'movies': [{'id': 257064249, 'name': 'ButtKnight Trailer', 'thumbnail': 'https://shared.akamai.steamstatic.com/store_item_assets/steam/apps/257064249/723fca8fb0f4260cddaa72f7f027f15148693b7c/movie_600x337.jpg?t=1728677430', 'webm': {'480': 'http://video.akamai.steamstatic.com/store_trailers/257064249/movie480_vp9.webm?t=1728677430', 'max': 'http://video.akamai.steamstatic.com/store_trailers/257064249/movie_max_vp9.webm?t=1728677430'}, 'mp4': {'480': 'http://video.akamai.steamstatic.com/store_trailers/257064249/movie480.mp4?t=1728677430', 'max': 'http://video.akamai.steamstatic.com/store_trailers/257064249/movie_max.mp4?t=1728677430'}, 'highlight': True}], 'release_date': {'coming_soon': True, 'date': 'Apr 24, 2025'}, 'support_info': {'url': '', 'email': 'criticalbliss@outlook.com'}, 'background': 'https://store.akamai.steamstatic.com/images/storepagebackground/app/2772820?t=1741621750', 'background_raw': 'https://shared.akamai.steamstatic.com/store_item_assets/steam/apps/2772820/356e9d309d0d0ba9c6abfc97a404a911c7488b05/page_bg_raw.jpg?t=1741621750', 'content_descriptors': {'ids': [1, 3, 4, 5], 'notes': 'All characters depicted in this game are adults. The game contains female and male nudity, violence, non-consensual sex and pornographics scenes between fantasy characters and monsters. \\r\\n\\r\\nThis game contains highly explicit sexual content that is intended for adults only.'}, 'ratings': {'dejus': {'rating_generated': '1', 'rating': '18', 'required_age': '18', 'banned': '0', 'use_age_gate': '0', 'descriptors': 'Nudez\\nViolência\\nTemas sensíveis'}, 'steam_germany': {'rating_generated': '1', 'rating': 'BANNED', 'required_age': '2147483647', 'banned': '1', 'use_age_gate': '0', 'descriptors': 'Sexualisierte Gewalt / Sexual violence'}}}}}\n"
     ]
    }
   ],
   "source": [
    "def print_sections_from_details_response():\n",
    "    # Assuming details_response is a variable containing the response\n",
    "    try:\n",
    "        # Parse the JSON response\n",
    "        data = details_response.json()\n",
    "        \n",
    "        # Print first level keys (app IDs usually)\n",
    "        print(\"First level keys (app IDs):\")\n",
    "        for app_id in data:\n",
    "            print(f\"- {app_id}\")\n",
    "            \n",
    "            # If this is a dictionary, go one level deeper\n",
    "            if isinstance(data[app_id], dict):\n",
    "                print(f\"  Sections in app {app_id}:\")\n",
    "                for section in data[app_id]:\n",
    "                    print(f\"  - {section}\")\n",
    "                    \n",
    "                    # If there's a 'data' section (common in Steam API), explore that\n",
    "                    if section == 'data' and isinstance(data[app_id]['data'], dict):\n",
    "                        print(f\"    Fields in 'data' section:\")\n",
    "                        for field in data[app_id]['data']:\n",
    "                            print(f\"    - {field}\")\n",
    "    \n",
    "    except ValueError:\n",
    "        print(\"Invalid JSON response\")\n",
    "    except Exception as e:\n",
    "        print(f\"Error processing response: {e}\")\n",
    "\n",
    "# Call the function\n",
    "print_sections_from_details_response()"
   ]
  },
  {
   "cell_type": "code",
   "execution_count": null,
   "id": "ffb5a730-4fb0-4754-99ed-d5abf8d52a88",
   "metadata": {},
   "outputs": [],
   "source": []
  }
 ],
 "metadata": {
  "kernelspec": {
   "display_name": "Steam API Project (Python 3.12)",
   "language": "python",
   "name": "steam-api-project-py3.12"
  },
  "language_info": {
   "codemirror_mode": {
    "name": "ipython",
    "version": 3
   },
   "file_extension": ".py",
   "mimetype": "text/x-python",
   "name": "python",
   "nbconvert_exporter": "python",
   "pygments_lexer": "ipython3",
   "version": "3.12.3"
  }
 },
 "nbformat": 4,
 "nbformat_minor": 5
}
