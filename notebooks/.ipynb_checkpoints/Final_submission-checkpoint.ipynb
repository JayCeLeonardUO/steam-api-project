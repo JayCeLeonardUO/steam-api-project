{
 "cells": [
  {
   "cell_type": "markdown",
   "id": "412acd93-debd-4263-9060-260b217e9c49",
   "metadata": {
    "panel-layout": {
     "height": 60.5938,
     "visible": true,
     "width": 100
    }
   },
   "source": [
    "# Steam Dataset 2025"
   ]
  },
  {
   "cell_type": "code",
   "execution_count": null,
   "id": "ed393add-4b2e-4905-aa6b-5d2f8ab3afca",
   "metadata": {},
   "outputs": [],
   "source": []
  },
  {
   "cell_type": "code",
   "execution_count": null,
   "id": "5f0544c1-b740-4ad2-bd8d-d2862e000f84",
   "metadata": {},
   "outputs": [],
   "source": []
  }
 ],
 "metadata": {
  "kernelspec": {
   "display_name": "Steam API Project (Python 3.12)",
   "language": "python",
   "name": "steam-api-project-py3.12"
  },
  "language_info": {
   "codemirror_mode": {
    "name": "ipython",
    "version": 3
   },
   "file_extension": ".py",
   "mimetype": "text/x-python",
   "name": "python",
   "nbconvert_exporter": "python",
   "pygments_lexer": "ipython3",
   "version": "3.12.3"
  },
  "panel-cell-order": [
   "412acd93-debd-4263-9060-260b217e9c49"
  ]
 },
 "nbformat": 4,
 "nbformat_minor": 5
}
